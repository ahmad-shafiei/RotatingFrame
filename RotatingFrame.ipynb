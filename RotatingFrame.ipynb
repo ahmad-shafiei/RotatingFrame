{
 "cells": [
  {
   "cell_type": "markdown",
   "metadata": {},
   "source": [
    "### Moving to interaction picture to get rid of the t-depenedence of the pump terms in the Hamiltonian. "
   ]
  },
  {
   "cell_type": "markdown",
   "metadata": {},
   "source": [
    "\n",
    "For the future refrence all the calculations are presented here\n"
   ]
  },
  {
   "cell_type": "markdown",
   "metadata": {},
   "source": [
    "### System Hamiltonian:\n",
    "\n",
    "$\\large \\hat{H}=\\omega_{c}\\hat{a}^\\dagger \\hat{a}+ \\large \\frac{\\omega_{a}}{2}\\hat{\\sigma}_{z}+\\omega_m \\hat{b}^\\dagger \\hat{b} \n",
    "\\large + ig_{ac}(\\hat{\\sigma}_{+}\\hat{a}-\\hat{\\sigma}_{-}\\hat{a}^\\dagger) -\n",
    " g_{cm}\\hat{a}^\\dagger \\hat{a}(\\hat{b}+\\hat{b}^\\dagger) -\n",
    " g_{am} \\hat{\\sigma}_{z}(\\hat{b}+\\hat{b}^\\dagger)$      $\\;\\;\\;\\;$    $\\large \\color{brown}{(1)}$\n",
    " \n",
    " Optical derive: $\\hat{V}_{p}(t)= iF_p (\\hat{a}^\\dagger e^{i\\omega_p t}-\\hat{a} e^{-i\\omega_p t})$\n",
    " $\\;\\;\\;\\;$    $\\large \\color{brown}{(2)}$ \n",
    " \n",
    " Dynamics of the system in the presence optical derive and dissipations: \n",
    " \n",
    " ${\\large\\frac{d\\hat{\\rho}}{dt}}= -i[\\hat{H}+\\hat{V}_{p}(t), \\hat{\\rho}] \n",
    "  +\\gamma_{c}L[\\hat{a}]\\hat{\\rho}+\\gamma_{a}L[\\hat{\\sigma}_{-}]\\hat{\\rho}\n",
    "   +n_{th}\\gamma_{m}L[\\hat{b}^\\dagger]\n",
    "  +(n_{th}+1)\\gamma_{m} L[\\hat{b}]\\hat{\\rho}$   $\\;\\;\\;\\;\\;\\;\\;\\;\\;\\;\\;\\;\\;$ $\\large \\color{brown}{(3)}$ \n",
    "  \n",
    "  Density matrix in the interaction picture is $\\large \\tilde{\\rho}(t)$:\n",
    "  \n",
    "  $\\rho (t)= \\large e^{-iH_0t}\\tilde{\\rho}(t)e^{iH_0t} $     $\\;\\;$  which $ \\hat{H}_0=\\omega_{p}(\\hat{a}^\\dagger \\hat{a}+ \\large \\frac{\\hat{\\sigma}_z}{2})$ so \n",
    " \n",
    "$\\dot{\\large \\rho}= -iH_0 \\rho + i \\rho H_0 + e^{-iH_0t}\\frac {\\large \\partial { \\tilde \\rho}(t)}{\\large\\partial t}e^{iH_0t}\n",
    " = -i[H_0 , \\rho] + e^{-iH_0t}\\frac {\\large \\partial { \\tilde \\rho}(t)}{\\large\\partial t}e^{iH_0t}$\n",
    "\n",
    "substituting in (3):\n",
    "\n",
    "  "
   ]
  },
  {
   "cell_type": "markdown",
   "metadata": {},
   "source": [
    " $-i[H_0 , \\rho] + e^{-iH_0t}\\frac {\\large \\partial { \\tilde \\rho}(t)}{\\large\\partial t}e^{iH_0t}= -i[\\hat{H}+\\hat{V}_{p}(t), \\hat{\\rho}] \n",
    "  +\\gamma_{c}L[\\hat{a}]\\hat{\\rho}+\\gamma_{a}L[\\hat{\\sigma}_{-}]\\hat{\\rho}\n",
    "   +n_{th}\\gamma_{m}L[\\hat{b}^\\dagger]\n",
    "  +(n_{th}+1)\\gamma_{m} L[\\hat{b}]\\hat{\\rho}$\n",
    "  \n",
    "   $\\implies {\\large e^{-iH_0t}\\frac {\\large \\partial { \\tilde \\rho}(t)}{\\large\\partial t}e^{iH_0t}}= \n",
    "   -i[\\hat{H}- \\hat{H}_0+\\hat{V}_{p}(t), \\hat{\\rho}] \n",
    "  +\\gamma_{c}L[\\hat{a}]\\hat{\\rho}+\\gamma_{a}L[\\hat{\\sigma}_{-}]\\hat{\\rho}\n",
    "   +n_{th}\\gamma_{m}L[\\hat{b}^\\dagger]\n",
    "  +(n_{th}+1)\\gamma_{m} L[\\hat{b}]\\hat{\\rho}$\n",
    "  \n",
    "  We multiply both side of (3) by $e^{iH_0t}$ and $e^{-iH_0t}$ from the left and right,respectively. In the following, for brevity, we \n",
    "  just keep first term of the right hand. The calculations for the rest terms are straightforward(at the end only $\\rho$ is substituded with $\\tilde{\\rho}$ )\n",
    "  \n",
    "  So:"
   ]
  },
  {
   "cell_type": "markdown",
   "metadata": {},
   "source": [
    "   $\\implies {\\large \\frac {\\large \\partial { \\tilde \\rho}(t)}{\\large\\partial t}= \n",
    "   -ie^{iH_0t}}[\\hat{H}- \\hat{H}_0+\\hat{V}_{p}(t), \\hat{\\rho}]e^{-iH_0t} \n",
    "  +e^{iH_0t}\\gamma_{c}L[\\hat{a}]\\hat{\\rho}e^{-iH_0t}\n",
    "    + \\;\\;...$"
   ]
  },
  {
   "cell_type": "markdown",
   "metadata": {},
   "source": [
    "taking into account that \n",
    "\n",
    "$e^{iH_0t} \\hat{\\rho}e^{-iH_0t}=  e^{iH_0t}\\color{brown}{e^{-iH_0t}\\tilde{\\rho}(t)e^{iH_0t}}e^{-iH_0t}=\\tilde{\\rho}(t)$\n",
    "\n",
    "$e^{iH_0t}(\\hat{H}- \\hat{H}_0)e^{-iH_0t} = (\\omega_c-\\omega_p)\\hat{a}^\\dagger \\hat{a}+\n",
    "(\\omega_a-\\omega_p){\\large\\frac{\\hat{\\sigma}_{z}}{2}}+\\omega_m \\hat{b}^\\dagger \\hat{b} +ig_{ac}(\\hat{\\sigma}_{+}\\hat{a}-\\hat{\\sigma}_{-}\\hat{a}^\\dagger) -\n",
    " g_{cm}\\hat{a}^\\dagger \\hat{a}(\\hat{b}+\\hat{b}^\\dagger) -\n",
    " g_{am} \\hat{\\sigma}_{z}(\\hat{b}+\\hat{b}^\\dagger) $\n",
    "\n",
    "$e^{iH_0t}\\hat{V}_{p}(t)e^{-iH_0t}$ $\\;\\;$ concidering (2) \n",
    "$\\;\\;$ $e^{iH_0t}\\color{brown}{iF_p (\\hat{a}^\\dagger e^{i\\omega_p t}-\\hat{a} e^{-i\\omega_p t})}e^{-iH_0t}$ \n",
    " $\\;\\;\\;\\;\\;\\;\\;\\;$ $\\large \\color{brown}{(5)}$"
   ]
  },
  {
   "cell_type": "markdown",
   "metadata": {},
   "source": [
    "Finally the master equation in the rotation frame is: \n",
    "\n"
   ]
  },
  {
   "cell_type": "markdown",
   "metadata": {},
   "source": [
    " $ {\\large \\frac {\\large \\partial { \\tilde \\rho}(t)}{\\large\\partial t}}= \n",
    "   -i[\\hat{H}_{eff}, \\tilde{\\rho}] \n",
    "  +\\gamma_{c}L[\\hat{a}]\\tilde{\\rho}\n",
    "    +\\gamma_{a}L[\\hat{\\sigma}_{-}]\\tilde{\\rho}\n",
    "   +n_{th}\\gamma_{m}L[\\hat{b}^\\dagger]\\tilde{\\rho}\n",
    "  +(n_{th}+1)\\gamma_{m} L[\\hat{b}]\\tilde{\\rho}$\n",
    "  \n",
    "  which here we should have \n",
    "  $ \\hat{H}_{eff}=(\\omega_c-\\omega_p)\\hat{a}^\\dagger \\hat{a}+\n",
    "  (\\omega_a-\\omega_p) {\\large\\frac{\\hat{\\sigma}_{z}}{2}}+\\omega_m \\hat{b}^\\dagger \\hat{b} \n",
    " + ig_{ac}(\\hat{\\sigma}_{+}\\hat{a}-\\hat{\\sigma}_{-}\\hat{a}^\\dagger) -\n",
    " g_{cm}\\hat{a}^\\dagger \\hat{a}(\\hat{b}+\\hat{b}^\\dagger) -\n",
    " g_{am} \\hat{\\sigma}_{z}(\\hat{b}+\\hat{b}^\\dagger) \\\\\n",
    " \\;\\;\\;\\;\\;\\;\\;\\;+ iF_p (\\hat{a}^\\dagger -\\hat{a} ) \\;\\;\\;\\;\\;\\;\\;\\;\\;\\;\\;\\;    \\large \\color{brown}{(6)}$"
   ]
  },
  {
   "cell_type": "markdown",
   "metadata": {},
   "source": [
    "$ \\color{red}{ My\\;question\\;is\\;about\\;the\\;calculation\\;of\\;Eq.\\;(5)} $... if I do according to the following procedure the t-dependent does not disappear!"
   ]
  },
  {
   "cell_type": "markdown",
   "metadata": {},
   "source": [
    "$e^{iH_0t}\\color{brown}{iF_p (\\hat{a}^\\dagger e^{i\\omega_p t}-\\hat{a} e^{-i\\omega_p t})}e^{-iH_0t}\n",
    "\\;\\;\\;\\;\\;\\;\\;\\;\\;\\;\\;\\;    \\large \\color{brown}{(7)}$"
   ]
  },
  {
   "cell_type": "markdown",
   "metadata": {},
   "source": [
    "for example, for the first term we have \n",
    "$iF_p {\\large e^{i\\omega_p t} e^{iH_0t} }\\hat{a}^\\dagger {\\large e^{-iH_0t}}= \n",
    "iF_p{\\large  e^{i\\omega_p t} e^{iw_p t\\hat{a}^\\dagger a}} \\hat{a}^\\dagger {\\large e^{-iw_p \\hat{a}^\\dagger a}}\n",
    "$"
   ]
  },
  {
   "cell_type": "markdown",
   "metadata": {},
   "source": [
    "using Baker-Hausdorff lemma for ${\\large e^{iw_p t \\hat{a}^\\dagger a}} \\hat{a}^\\dagger {\\large e^{-iw_p \\hat{a}^\\dagger a}}$"
   ]
  },
  {
   "cell_type": "markdown",
   "metadata": {},
   "source": [
    "### Baker-Hausdorff lemma"
   ]
  },
  {
   "cell_type": "markdown",
   "metadata": {},
   "source": [
    "$e^{iG \\lambda}Ae^{-iG \\lambda}=A+i\\lambda[G,A]+\\frac{\\large i^2 \\lambda^2}{\\large 2!}[G,[G,A]]\n",
    " + ... + \\frac{\\large i^n \\lambda^n}{\\large n!}[G,[G,[G,...,[G,A]]]...]+ ...     \n",
    " \\;\\;\\;\\;\\;\\; G \\;\\; is \\;\\; hermitian \\;\\; operator$"
   ]
  },
  {
   "cell_type": "markdown",
   "metadata": {},
   "source": [
    "Therefore ${\\large e^{iw_p t \\hat{a}^\\dagger a}} \\hat{a}^\\dagger {\\large e^{-iw_p t \\hat{a}^\\dagger a}}\n",
    " = \\hat{a}^\\dagger (1+i \\omega_p t + \\frac{\\large (i \\omega_p t)^2}{\\large 2!}+ ....)\n",
    " = \\hat{a}^\\dagger e^{i\\omega_p t }$\n",
    " \n",
    " Similary, ${\\large e^{iw_p t \\hat{a}^\\dagger a}} \\hat{a} {\\large e^{-iw_p \\hat{a}^\\dagger a}}\n",
    " =\\hat{a} e^{-i\\omega_p t }$ and if we substitude these results in the (7)"
   ]
  },
  {
   "cell_type": "markdown",
   "metadata": {},
   "source": [
    "$\\color{red}{\\large iF_p (\\hat{a}^\\dagger e^{2i\\omega_p t}-\\hat{a} e^{-2i\\omega_p t})}$  $\\;\\; \\large \\divideontimes$"
   ]
  },
  {
   "cell_type": "markdown",
   "metadata": {},
   "source": [
    "unless that exponential signs in the (2) change, say: \n"
   ]
  },
  {
   "cell_type": "markdown",
   "metadata": {},
   "source": [
    "$\\hat{V}_{p}(t)= iF_p (\\hat{a}^\\dagger e^{\\large \\color{red}{-}i\\omega_p t}-\\hat{a} e^{\\large \\color{red}{+}i\\omega_p t})$"
   ]
  },
  {
   "cell_type": "markdown",
   "metadata": {},
   "source": []
  },
  {
   "cell_type": "markdown",
   "metadata": {},
   "source": [
    "is this make any change in practice?"
   ]
  },
  {
   "cell_type": "code",
   "execution_count": null,
   "metadata": {},
   "outputs": [],
   "source": []
  }
 ],
 "metadata": {
  "kernelspec": {
   "display_name": "Python 3",
   "language": "python",
   "name": "python3"
  },
  "language_info": {
   "codemirror_mode": {
    "name": "ipython",
    "version": 3
   },
   "file_extension": ".py",
   "mimetype": "text/x-python",
   "name": "python",
   "nbconvert_exporter": "python",
   "pygments_lexer": "ipython3",
   "version": "3.7.3"
  }
 },
 "nbformat": 4,
 "nbformat_minor": 4
}
